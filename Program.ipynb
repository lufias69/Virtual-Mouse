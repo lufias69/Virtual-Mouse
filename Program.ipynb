{
 "cells": [
  {
   "cell_type": "markdown",
   "metadata": {},
   "source": [
    "# Cara Install Modul (Library)"
   ]
  },
  {
   "cell_type": "raw",
   "metadata": {},
   "source": [
    "1. Klik Start laluk ketikkan cmd"
   ]
  },
  {
   "cell_type": "markdown",
   "metadata": {},
   "source": [
    "<img src=\"image/1.png\" alt=\" \" width=\"400\" height=\"700\" align=\"left\"/>"
   ]
  },
  {
   "cell_type": "markdown",
   "metadata": {},
   "source": [
    "2. pilih \"Anaconda Prompt\""
   ]
  },
  {
   "cell_type": "markdown",
   "metadata": {},
   "source": [
    "selnjutnya kita akan menginstall mediapipe- https://pypi.org/project/mediapipe/"
   ]
  },
  {
   "cell_type": "markdown",
   "metadata": {},
   "source": [
    "<img src=\"image/2.jpg\" alt=\" \" width=\"400\" height=\"700\" align=\"left\"/>"
   ]
  },
  {
   "cell_type": "markdown",
   "metadata": {},
   "source": [
    "# Virtual Mouse"
   ]
  },
  {
   "cell_type": "markdown",
   "metadata": {},
   "source": [
    "<img src=\"image/3.png\" alt=\" \" align=\"left\"/>"
   ]
  },
  {
   "cell_type": "code",
   "execution_count": 3,
   "metadata": {},
   "outputs": [],
   "source": [
    "#ketik program disini\n",
    "\n"
   ]
  },
  {
   "cell_type": "markdown",
   "metadata": {},
   "source": [
    "import cv2\n",
    "import numpy as np\n",
    "import HandTrackingModule as htm\n",
    "import time\n",
    "import autopy\n",
    "\n",
    "##########################\n",
    "wCam, hCam = 640, 480\n",
    "frameR = 100 # Frame Reduction\n",
    "smoothening = 5\n",
    "#########################\n",
    "\n",
    "pTime = 0\n",
    "plocX, plocY = 0, 0\n",
    "clocX, clocY = 0, 0\n",
    "\n",
    "cap = cv2.VideoCapture(0)\n",
    "cap.set(3, wCam)\n",
    "cap.set(4, hCam)\n",
    "\n",
    "detector = htm.handDetector(maxHands=1)\n",
    "wScr, hScr = autopy.screen.size()\n",
    "# print(wScr, hScr)\n",
    "\n",
    "while True:\n",
    "    # 1. Find hand Landmarks\n",
    "    success, img = cap.read()\n",
    "    img = detector.findHands(img)\n",
    "    lmList, bbox = detector.findPosition(img) \n",
    "    # 2. Get the tip of the index and middle fingers\n",
    "    if len(lmList) != 0:\n",
    "        x1, y1 = lmList[8][1:]\n",
    "        x2, y2 = lmList[12][1:]\n",
    "        # print(x1, y1, x2, y2)\n",
    "        \n",
    "        # 3. Check which fingers are up\n",
    "        fingers = detector.fingersUp()\n",
    "        # print(fingers)\n",
    "        cv2.rectangle(img, (frameR, frameR), (wCam - frameR, hCam - frameR),\n",
    "        (255, 0, 255), 2)\n",
    "\n",
    "        # 4. Only Index Finger : Moving Mode\n",
    "        if fingers[1] == 1 and fingers[2] == 0:\n",
    "            # 5. Convert Coordinates\n",
    "            x3 = np.interp(x1, (frameR, wCam - frameR), (0, wScr))\n",
    "            y3 = np.interp(y1, (frameR, hCam - frameR), (0, hScr))\n",
    "\n",
    "            # 6. Smoothen Values\n",
    "            clocX = plocX + (x3 - plocX) / smoothening\n",
    "            clocY = plocY + (y3 - plocY) / smoothening\n",
    "\n",
    "            # 7. Move Mouse\n",
    "            # autopy.mouse.move(wScr - clocX, clocY)\n",
    "            try:\n",
    "                autopy.mouse.move(wScr-x3, y3)\n",
    "                #autopy.mouse.move(wScr - clocX, clocY)\n",
    "                cv2.circle(img, (x1, y1), 15, (255, 0, 255), cv2.FILLED)\n",
    "            except:\n",
    "                pass\n",
    "            # plocX, plocY = clocX, clocY\n",
    "\n",
    "        #8. Both Index and middle fingers are up : Clicking Mode\n",
    "        if fingers[1] == 1 and fingers[2] == 1:\n",
    "        # 9. Find distance between fingers\n",
    "            length, img, lineInfo = detector.findDistance(8, 12, img)\n",
    "            print(length)\n",
    "        \n",
    "            # 10. Click mouse if distance short\n",
    "            if length < 30:\n",
    "                cv2.circle(img, (lineInfo[4], lineInfo[5]),\n",
    "                15, (0, 255, 0), cv2.FILLED)\n",
    "                autopy.mouse.click()\n",
    "    # 11. Frame Rate\n",
    "\n",
    "    \n",
    "    cTime = time.time()\n",
    "    fps = 1 / (cTime - pTime)\n",
    "    pTime = cTime\n",
    "    cv2.putText(img, str(int(fps)), (20, 50), cv2.FONT_HERSHEY_PLAIN, 3,\n",
    "                (255, 0, 0), 3)\n",
    "    \n",
    "    cv2.imshow(\"imgae\", img)\n",
    "    cv2.waitKey(1)\n"
   ]
  },
  {
   "cell_type": "code",
   "execution_count": null,
   "metadata": {},
   "outputs": [],
   "source": []
  }
 ],
 "metadata": {
  "kernelspec": {
   "display_name": "Python 3",
   "language": "python",
   "name": "python3"
  },
  "language_info": {
   "codemirror_mode": {
    "name": "ipython",
    "version": 3
   },
   "file_extension": ".py",
   "mimetype": "text/x-python",
   "name": "python",
   "nbconvert_exporter": "python",
   "pygments_lexer": "ipython3",
   "version": "3.7.6"
  }
 },
 "nbformat": 4,
 "nbformat_minor": 4
}
